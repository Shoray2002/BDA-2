{
 "cells": [
  {
   "cell_type": "markdown",
   "metadata": {},
   "source": []
  },
  {
   "cell_type": "markdown",
   "metadata": {},
   "source": [
    "<h1 style=\"background-color:#3c78aa;font-family:newtimeroman;font-size:350%;text-align:center;border-radius: 15px 50px;\">Scraping Data from Reddit</h1>"
   ]
  },
  {
   "cell_type": "code",
   "execution_count": null,
   "metadata": {},
   "outputs": [],
   "source": [
    "! pip install praw"
   ]
  },
  {
   "cell_type": "code",
   "execution_count": null,
   "metadata": {},
   "outputs": [],
   "source": [
    "import csv\n",
    "import praw"
   ]
  },
  {
   "cell_type": "code",
   "execution_count": null,
   "metadata": {},
   "outputs": [],
   "source": [
    "reddit = praw.Reddit(client_id='EBohoWcmdN-cPi8HTOIUSw',\n",
    "                     client_secret='tWUMO3InJO1KrY8d5iJ7DasBoUQy4w',\n",
    "                     username=\"Automatic-Bid4538\",\n",
    "                     password=\"X890TNzsJj93\",\n",
    "                     user_agent=\"bda_sentimentv1\")\n",
    "# initialize the dev app with the above credentials"
   ]
  },
  {
   "cell_type": "code",
   "execution_count": null,
   "metadata": {},
   "outputs": [],
   "source": [
    "\n",
    "# scrape the hottest 1000 posts from the subreddit ukraine\n",
    "subreddit = reddit.subreddit('ukraine')\n",
    "hot_ukraine = subreddit.top(limit=1000)\n",
    "\n",
    "with open('../data/ukraine_data.csv', 'w') as f:\n",
    "    headers = ['ID', 'Date_utc', 'Title','Body',\n",
    "               'Number of Comments', 'Score', 'Author', 'Link', 'Flair']\n",
    "    writer = csv.DictWriter(f, fieldnames=headers,\n",
    "                            extrasaction='ignore', dialect='excel')\n",
    "    writer.writeheader()\n",
    "    for post in hot_ukraine:\n",
    "        if not post.stickied:\n",
    "            data = {\n",
    "                'ID': post.id,\n",
    "                'Date_utc': post.created_utc,\n",
    "                'Title': post.title,\n",
    "                'Body': post.selftext,\n",
    "                'Number of Comments': post.num_comments,\n",
    "                'Score': post.score,\n",
    "                'Author': post.author,\n",
    "                'Link': post.permalink,\n",
    "                'Flair': post.link_flair_text\n",
    "            }\n",
    "            writer.writerow(data)\n",
    "    f.close()\n"
   ]
  },
  {
   "cell_type": "code",
   "execution_count": null,
   "metadata": {},
   "outputs": [],
   "source": [
    "# scrape the hottest 1000 posts from the subreddit russia\n",
    "subreddit = reddit.subreddit('russia')\n",
    "hot_russia = subreddit.top(limit=1000)\n",
    "\n",
    "with open('../data/russia_data.csv', 'w') as f:\n",
    "    headers = ['ID', 'Date_utc', 'Title','Body',\n",
    "               'Number of Comments', 'Score', 'Author', 'Link', 'Flair']\n",
    "    writer = csv.DictWriter(f, fieldnames=headers,\n",
    "                            extrasaction='ignore', dialect='excel')\n",
    "    writer.writeheader()\n",
    "    for post in hot_russia:\n",
    "        if not post.stickied:\n",
    "            data = {\n",
    "                'ID': post.id,\n",
    "                'Date_utc': post.created_utc,\n",
    "                'Title': post.title,\n",
    "                'Body': post.selftext,\n",
    "                'Number of Comments': post.num_comments,\n",
    "                'Score': post.score,\n",
    "                'Author': post.author,\n",
    "                'Link': post.permalink,\n",
    "                'Flair': post.link_flair_text\n",
    "            }\n",
    "            writer.writerow(data)\n",
    "    f.close()\n"
   ]
  }
 ],
 "metadata": {
  "interpreter": {
   "hash": "4f946df053fbf2b937619d3c5458e7af74262f9a954d8797ba0b27400bcafe06"
  },
  "kernelspec": {
   "display_name": "Python 3.10.4 64-bit",
   "language": "python",
   "name": "python3"
  },
  "language_info": {
   "codemirror_mode": {
    "name": "ipython",
    "version": 3
   },
   "file_extension": ".py",
   "mimetype": "text/x-python",
   "name": "python",
   "nbconvert_exporter": "python",
   "pygments_lexer": "ipython3",
   "version": "3.10.4"
  },
  "orig_nbformat": 4
 },
 "nbformat": 4,
 "nbformat_minor": 2
}
