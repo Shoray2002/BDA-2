{
 "cells": [
  {
   "cell_type": "markdown",
   "metadata": {},
   "source": []
  },
  {
   "cell_type": "code",
   "execution_count": 1,
   "metadata": {},
   "outputs": [
    {
     "name": "stderr",
     "output_type": "stream",
     "text": [
      "[nltk_data] Downloading package stopwords to\n",
      "[nltk_data]     /home/lordshorya/nltk_data...\n",
      "[nltk_data]   Package stopwords is already up-to-date!\n"
     ]
    }
   ],
   "source": [
    "import pandas as pd\n",
    "import numpy as np\n",
    "import matplotlib.pyplot as plt\n",
    "import seaborn as sns\n",
    "from wordcloud import WordCloud\n",
    "from collections import Counter\n",
    "import nltk\n",
    "nltk.download('stopwords')\n",
    "from nltk.corpus import wordnet, stopwords\n",
    "from nltk import word_tokenize\n",
    "from nltk.tag import pos_tag\n",
    "from nltk.stem import WordNetLemmatizer\n",
    "\n",
    "# Increase the width of each column of data in a dataframe for ease-of-understanding\n",
    "pd.options.display.max_colwidth = 1000"
   ]
  },
  {
   "cell_type": "markdown",
   "metadata": {},
   "source": [
    "#### Analyzing _www.reddit.com/r/russia_"
   ]
  },
  {
   "cell_type": "code",
   "execution_count": 2,
   "metadata": {},
   "outputs": [
    {
     "name": "stdout",
     "output_type": "stream",
     "text": [
      "Columns in the Russian dataframe\n",
      "\n",
      "0. ID\n",
      "1. Date_utc\n",
      "2. Title\n",
      "3. Number of Comments\n",
      "4. Score\n",
      "5. Author\n",
      "6. Link\n",
      "7. Flair\n"
     ]
    }
   ],
   "source": [
    "russia_df = pd.read_csv('./russia_data.csv')\n",
    "russia_col = russia_df.columns\n",
    "\n",
    "print(\"Columns in the Russian dataframe\\n\")\n",
    "for i in range (len(russia_col)):\n",
    "  print(f'{i}. {russia_col[i]}')"
   ]
  },
  {
   "cell_type": "markdown",
   "metadata": {},
   "source": [
    "The following columns will be dropped:\n",
    " - Date_utc (all the posts will the latest ones in the 'Hot' section of the subreddit, hence the submission date is redundant),\n",
    " - ID (the unique post ID is redundant as we can index through the rows using pandas' built-in indices),\n",
    " - Link (the URL of the post is irrelevant)\n",
    "\n",
    "The following columns will be retained:\n",
    " - Title -- the primary component of a post that will play a role in sentiment analysis.\n",
    " - Number of Comments -- Indicate how interested the community is in the post's subject. Sometimes a higher number of comments may also indicate a highly controversial post.\n",
    " - Score -- How the community perceives the post (whether they agree with it or not, whether they think the post is relevant to the community)\n",
    " - Author -- Will be useful in determining how active the authors are in the community, based on how much they've been posting.\n",
    " - Flair -- Similar to the title, plays a role in obtaining a quick insight into the subject of the post."
   ]
  },
  {
   "cell_type": "code",
   "execution_count": 3,
   "metadata": {},
   "outputs": [
    {
     "name": "stdout",
     "output_type": "stream",
     "text": [
      "Columns retained:\n",
      "\n",
      "0. Title\n",
      "1. Number of Comments\n",
      "2. Score\n",
      "3. Author\n",
      "4. Flair\n"
     ]
    }
   ],
   "source": [
    "russia_df.drop(columns=['Date_utc', 'ID', 'Link'], inplace=True)\n",
    "\n",
    "russia_col = russia_df.columns\n",
    "print(\"Columns retained:\\n\")\n",
    "for i in range (len(russia_col)):\n",
    "  print(f'{i}. {russia_col[i]}')"
   ]
  },
  {
   "cell_type": "code",
   "execution_count": 4,
   "metadata": {},
   "outputs": [
    {
     "name": "stdout",
     "output_type": "stream",
     "text": [
      "Number of complete entries in the dataset: 953\n"
     ]
    },
    {
     "data": {
      "text/html": [
       "<div>\n",
       "<style scoped>\n",
       "    .dataframe tbody tr th:only-of-type {\n",
       "        vertical-align: middle;\n",
       "    }\n",
       "\n",
       "    .dataframe tbody tr th {\n",
       "        vertical-align: top;\n",
       "    }\n",
       "\n",
       "    .dataframe thead th {\n",
       "        text-align: right;\n",
       "    }\n",
       "</style>\n",
       "<table border=\"1\" class=\"dataframe\">\n",
       "  <thead>\n",
       "    <tr style=\"text-align: right;\">\n",
       "      <th></th>\n",
       "      <th>Number of Comments</th>\n",
       "      <th>Score</th>\n",
       "    </tr>\n",
       "  </thead>\n",
       "  <tbody>\n",
       "    <tr>\n",
       "      <th>mean</th>\n",
       "      <td>62.093389</td>\n",
       "      <td>674.128017</td>\n",
       "    </tr>\n",
       "    <tr>\n",
       "      <th>std</th>\n",
       "      <td>88.481629</td>\n",
       "      <td>466.922209</td>\n",
       "    </tr>\n",
       "    <tr>\n",
       "      <th>min</th>\n",
       "      <td>0.000000</td>\n",
       "      <td>182.000000</td>\n",
       "    </tr>\n",
       "    <tr>\n",
       "      <th>25%</th>\n",
       "      <td>17.000000</td>\n",
       "      <td>472.000000</td>\n",
       "    </tr>\n",
       "    <tr>\n",
       "      <th>50%</th>\n",
       "      <td>33.000000</td>\n",
       "      <td>569.000000</td>\n",
       "    </tr>\n",
       "    <tr>\n",
       "      <th>75%</th>\n",
       "      <td>69.000000</td>\n",
       "      <td>720.000000</td>\n",
       "    </tr>\n",
       "    <tr>\n",
       "      <th>max</th>\n",
       "      <td>1235.000000</td>\n",
       "      <td>6828.000000</td>\n",
       "    </tr>\n",
       "  </tbody>\n",
       "</table>\n",
       "</div>"
      ],
      "text/plain": [
       "      Number of Comments        Score\n",
       "mean           62.093389   674.128017\n",
       "std            88.481629   466.922209\n",
       "min             0.000000   182.000000\n",
       "25%            17.000000   472.000000\n",
       "50%            33.000000   569.000000\n",
       "75%            69.000000   720.000000\n",
       "max          1235.000000  6828.000000"
      ]
     },
     "execution_count": 4,
     "metadata": {},
     "output_type": "execute_result"
    }
   ],
   "source": [
    "# Convert the flair column of rows with missing flair values into empty strings so that they don't get dropped, as unflaired posts are perfectly valid\n",
    "russia_df.loc[russia_df['Flair'].isna(), 'Flair'] = ''\n",
    "# Drop rows with missing/NaN values\n",
    "russia_df.dropna(inplace=True)\n",
    "\n",
    "print(f'Number of complete entries in the dataset: {russia_df.shape[0]}')\n",
    "russia_df.describe()[1:]"
   ]
  },
  {
   "cell_type": "markdown",
   "metadata": {},
   "source": [
    "On an average, each post has received around 62 comments, and the average score of a post lies around 674 points."
   ]
  },
  {
   "cell_type": "code",
   "execution_count": 5,
   "metadata": {},
   "outputs": [
    {
     "name": "stdout",
     "output_type": "stream",
     "text": [
      "Number of unique authors who participated in the community: 365\n",
      " - Average number of posts made by each individual author: 3\n",
      "Number of unique flairs used throughout the set of posts: 88\n"
     ]
    }
   ],
   "source": [
    "number_of_entries = russia_df.shape[0]\n",
    "unique_authors = russia_df['Author'].unique()\n",
    "\n",
    "print(f'Number of unique authors who participated in the community: {len(unique_authors)}')\n",
    "print(f' - Average number of posts made by each individual author: {round(number_of_entries/len(unique_authors))}')\n",
    "print(f'Number of unique flairs used throughout the set of posts: {len(russia_df.Flair.unique())}')"
   ]
  },
  {
   "cell_type": "code",
   "execution_count": 6,
   "metadata": {},
   "outputs": [
    {
     "data": {
      "image/png": "[encoded data removed]",
      "text/plain": [
       "<Figure size 432x288 with 1 Axes>"
      ]
     },
     "metadata": {
      "needs_background": "light"
     },
     "output_type": "display_data"
    }
   ],
   "source": [
    "unique_authors = russia_df.nunique().reset_index()\n",
    "unique_authors.loc[len(unique_authors.index)] = ['Post', russia_df.shape[0]]\n",
    "\n",
    "unique_authors.drop([0, 1, 2, 4], inplace=True)\n",
    "unique_authors.columns = ['Value count', 'Count']\n",
    "ax = sns.barplot(data=unique_authors, x='Value count', y='Count')"
   ]
  },
  {
   "cell_type": "markdown",
   "metadata": {},
   "source": [
    "On average, each author posted around three submissions to the community."
   ]
  },
  {
   "cell_type": "code",
   "execution_count": 7,
   "metadata": {},
   "outputs": [
    {
     "data": {
      "image/png": "[encoded data removed]",
      "text/plain": [
       "<Figure size 432x288 with 1 Axes>"
      ]
     },
     "metadata": {
      "needs_background": "light"
     },
     "output_type": "display_data"
    }
   ],
   "source": [
    "unflaired_posts = russia_df[russia_df.Flair == '']\n",
    "flaired_posts = russia_df[russia_df.Flair != '']\n",
    "\n",
    "post_flair_df = pd.DataFrame.from_dict({\n",
    "  0: ['Flaired posts', len(flaired_posts)],\n",
    "  1: ['Unflaired posts', len(unflaired_posts)]\n",
    "}, orient='index')\n",
    "\n",
    "post_flair_df.columns = ['Flair status', 'Count']\n",
    "ax = sns.barplot(data=post_flair_df, x='Flair status', y='Count')"
   ]
  },
  {
   "cell_type": "code",
   "execution_count": 8,
   "metadata": {},
   "outputs": [
    {
     "data": {
      "text/html": [
       "<div>\n",
       "<style scoped>\n",
       "    .dataframe tbody tr th:only-of-type {\n",
       "        vertical-align: middle;\n",
       "    }\n",
       "\n",
       "    .dataframe tbody tr th {\n",
       "        vertical-align: top;\n",
       "    }\n",
       "\n",
       "    .dataframe thead th {\n",
       "        text-align: right;\n",
       "    }\n",
       "</style>\n",
       "<table border=\"1\" class=\"dataframe\">\n",
       "  <thead>\n",
       "    <tr style=\"text-align: right;\">\n",
       "      <th></th>\n",
       "      <th>Number of Comments</th>\n",
       "      <th>Score</th>\n",
       "    </tr>\n",
       "  </thead>\n",
       "  <tbody>\n",
       "    <tr>\n",
       "      <th>Number of Comments</th>\n",
       "      <td>1.000000</td>\n",
       "      <td>0.235281</td>\n",
       "    </tr>\n",
       "    <tr>\n",
       "      <th>Score</th>\n",
       "      <td>0.235281</td>\n",
       "      <td>1.000000</td>\n",
       "    </tr>\n",
       "  </tbody>\n",
       "</table>\n",
       "</div>"
      ],
      "text/plain": [
       "                    Number of Comments     Score\n",
       "Number of Comments            1.000000  0.235281\n",
       "Score                         0.235281  1.000000"
      ]
     },
     "execution_count": 8,
     "metadata": {},
     "output_type": "execute_result"
    }
   ],
   "source": [
    "russia_df.corr(method='spearman')"
   ]
  },
  {
   "cell_type": "code",
   "execution_count": 9,
   "metadata": {},
   "outputs": [
    {
     "data": {
      "text/plain": [
       "<AxesSubplot:>"
      ]
     },
     "execution_count": 9,
     "metadata": {},
     "output_type": "execute_result"
    },
    {
     "data": {
      "image/png": "[encoded data removed]",
      "text/plain": [
       "<Figure size 432x288 with 2 Axes>"
      ]
     },
     "metadata": {
      "needs_background": "light"
     },
     "output_type": "display_data"
    }
   ],
   "source": [
    "sns.heatmap(russia_df.corr(method='spearman'), cmap='coolwarm')"
   ]
  },
  {
   "cell_type": "markdown",
   "metadata": {},
   "source": [
    "There is very little correlation between the Score and the Number of comments on a post. However, the correlation isn't negative either. This means the score and number of comments are hardly related to each other."
   ]
  },
  {
   "cell_type": "code",
   "execution_count": 10,
   "metadata": {},
   "outputs": [
    {
     "ename": "LookupError",
     "evalue": "\n**********************************************************************\n  Resource \u001b[93mpunkt\u001b[0m not found.\n  Please use the NLTK Downloader to obtain the resource:\n\n  \u001b[31m>>> import nltk\n  >>> nltk.download('punkt')\n  \u001b[0m\n  For more information see: https://www.nltk.org/data.html\n\n  Attempted to load \u001b[93mtokenizers/punkt/PY3/english.pickle\u001b[0m\n\n  Searched in:\n    - '/home/lordshorya/nltk_data'\n    - '/usr/nltk_data'\n    - '/usr/share/nltk_data'\n    - '/usr/lib/nltk_data'\n    - '/usr/share/nltk_data'\n    - '/usr/local/share/nltk_data'\n    - '/usr/lib/nltk_data'\n    - '/usr/local/lib/nltk_data'\n    - ''\n**********************************************************************\n",
     "output_type": "error",
     "traceback": [
      "\u001b[0;31m---------------------------------------------------------------------------\u001b[0m",
      "\u001b[0;31mLookupError\u001b[0m                               Traceback (most recent call last)",
      "\u001b[1;32m/home/lordshorya/Documents/BDA-2/eda.ipynb Cell 16'\u001b[0m in \u001b[0;36m<cell line: 30>\u001b[0;34m()\u001b[0m\n\u001b[1;32m     <a href='vscode-notebook-cell:/home/lordshorya/Documents/BDA-2/eda.ipynb#ch0000015?line=27'>28</a>\u001b[0m clean_russia_titles_df[\u001b[39m'\u001b[39m\u001b[39mTitle\u001b[39m\u001b[39m'\u001b[39m] \u001b[39m=\u001b[39m clean_russia_titles_df[\u001b[39m'\u001b[39m\u001b[39mTitle\u001b[39m\u001b[39m'\u001b[39m]\u001b[39m.\u001b[39mstr\u001b[39m.\u001b[39mlower()\n\u001b[1;32m     <a href='vscode-notebook-cell:/home/lordshorya/Documents/BDA-2/eda.ipynb#ch0000015?line=28'>29</a>\u001b[0m clean_russia_titles_df[\u001b[39m'\u001b[39m\u001b[39mTitle\u001b[39m\u001b[39m'\u001b[39m] \u001b[39m=\u001b[39m clean_russia_titles_df[\u001b[39m'\u001b[39m\u001b[39mTitle\u001b[39m\u001b[39m'\u001b[39m]\u001b[39m.\u001b[39mstr\u001b[39m.\u001b[39mreplace(\u001b[39mr\u001b[39m\u001b[39m'\u001b[39m\u001b[39m[^\u001b[39m\u001b[39m\\\u001b[39m\u001b[39mw\u001b[39m\u001b[39m\\\u001b[39m\u001b[39md\u001b[39m\u001b[39m\\\u001b[39m\u001b[39ms]\u001b[39m\u001b[39m'\u001b[39m, \u001b[39m'\u001b[39m\u001b[39m \u001b[39m\u001b[39m'\u001b[39m, regex\u001b[39m=\u001b[39m\u001b[39mTrue\u001b[39;00m)\n\u001b[0;32m---> <a href='vscode-notebook-cell:/home/lordshorya/Documents/BDA-2/eda.ipynb#ch0000015?line=29'>30</a>\u001b[0m clean_russia_titles_df[\u001b[39m'\u001b[39m\u001b[39mTitle\u001b[39m\u001b[39m'\u001b[39m] \u001b[39m=\u001b[39m clean_russia_titles_df[\u001b[39m'\u001b[39;49m\u001b[39mTitle\u001b[39;49m\u001b[39m'\u001b[39;49m]\u001b[39m.\u001b[39;49mapply(\u001b[39mlambda\u001b[39;49;00m title: lemmatize(title))\n\u001b[1;32m     <a href='vscode-notebook-cell:/home/lordshorya/Documents/BDA-2/eda.ipynb#ch0000015?line=31'>32</a>\u001b[0m \u001b[39mdef\u001b[39;00m \u001b[39mwordcloud\u001b[39m(dataset, min_freq\u001b[39m=\u001b[39m\u001b[39m1\u001b[39m):\n\u001b[1;32m     <a href='vscode-notebook-cell:/home/lordshorya/Documents/BDA-2/eda.ipynb#ch0000015?line=32'>33</a>\u001b[0m     bow \u001b[39m=\u001b[39m \u001b[39mlist\u001b[39m()\n",
      "File \u001b[0;32m~/.local/lib/python3.10/site-packages/pandas/core/series.py:4433\u001b[0m, in \u001b[0;36mSeries.apply\u001b[0;34m(self, func, convert_dtype, args, **kwargs)\u001b[0m\n\u001b[1;32m   <a href='file:///home/lordshorya/.local/lib/python3.10/site-packages/pandas/core/series.py?line=4322'>4323</a>\u001b[0m \u001b[39mdef\u001b[39;00m \u001b[39mapply\u001b[39m(\n\u001b[1;32m   <a href='file:///home/lordshorya/.local/lib/python3.10/site-packages/pandas/core/series.py?line=4323'>4324</a>\u001b[0m     \u001b[39mself\u001b[39m,\n\u001b[1;32m   <a href='file:///home/lordshorya/.local/lib/python3.10/site-packages/pandas/core/series.py?line=4324'>4325</a>\u001b[0m     func: AggFuncType,\n\u001b[0;32m   (...)\u001b[0m\n\u001b[1;32m   <a href='file:///home/lordshorya/.local/lib/python3.10/site-packages/pandas/core/series.py?line=4327'>4328</a>\u001b[0m     \u001b[39m*\u001b[39m\u001b[39m*\u001b[39mkwargs,\n\u001b[1;32m   <a href='file:///home/lordshorya/.local/lib/python3.10/site-packages/pandas/core/series.py?line=4328'>4329</a>\u001b[0m ) \u001b[39m-\u001b[39m\u001b[39m>\u001b[39m DataFrame \u001b[39m|\u001b[39m Series:\n\u001b[1;32m   <a href='file:///home/lordshorya/.local/lib/python3.10/site-packages/pandas/core/series.py?line=4329'>4330</a>\u001b[0m     \u001b[39m\"\"\"\u001b[39;00m\n\u001b[1;32m   <a href='file:///home/lordshorya/.local/lib/python3.10/site-packages/pandas/core/series.py?line=4330'>4331</a>\u001b[0m \u001b[39m    Invoke function on values of Series.\u001b[39;00m\n\u001b[1;32m   <a href='file:///home/lordshorya/.local/lib/python3.10/site-packages/pandas/core/series.py?line=4331'>4332</a>\u001b[0m \n\u001b[0;32m   (...)\u001b[0m\n\u001b[1;32m   <a href='file:///home/lordshorya/.local/lib/python3.10/site-packages/pandas/core/series.py?line=4430'>4431</a>\u001b[0m \u001b[39m    dtype: float64\u001b[39;00m\n\u001b[1;32m   <a href='file:///home/lordshorya/.local/lib/python3.10/site-packages/pandas/core/series.py?line=4431'>4432</a>\u001b[0m \u001b[39m    \"\"\"\u001b[39;00m\n\u001b[0;32m-> <a href='file:///home/lordshorya/.local/lib/python3.10/site-packages/pandas/core/series.py?line=4432'>4433</a>\u001b[0m     \u001b[39mreturn\u001b[39;00m SeriesApply(\u001b[39mself\u001b[39;49m, func, convert_dtype, args, kwargs)\u001b[39m.\u001b[39;49mapply()\n",
      "File \u001b[0;32m~/.local/lib/python3.10/site-packages/pandas/core/apply.py:1082\u001b[0m, in \u001b[0;36mSeriesApply.apply\u001b[0;34m(self)\u001b[0m\n\u001b[1;32m   <a href='file:///home/lordshorya/.local/lib/python3.10/site-packages/pandas/core/apply.py?line=1077'>1078</a>\u001b[0m \u001b[39mif\u001b[39;00m \u001b[39misinstance\u001b[39m(\u001b[39mself\u001b[39m\u001b[39m.\u001b[39mf, \u001b[39mstr\u001b[39m):\n\u001b[1;32m   <a href='file:///home/lordshorya/.local/lib/python3.10/site-packages/pandas/core/apply.py?line=1078'>1079</a>\u001b[0m     \u001b[39m# if we are a string, try to dispatch\u001b[39;00m\n\u001b[1;32m   <a href='file:///home/lordshorya/.local/lib/python3.10/site-packages/pandas/core/apply.py?line=1079'>1080</a>\u001b[0m     \u001b[39mreturn\u001b[39;00m \u001b[39mself\u001b[39m\u001b[39m.\u001b[39mapply_str()\n\u001b[0;32m-> <a href='file:///home/lordshorya/.local/lib/python3.10/site-packages/pandas/core/apply.py?line=1081'>1082</a>\u001b[0m \u001b[39mreturn\u001b[39;00m \u001b[39mself\u001b[39;49m\u001b[39m.\u001b[39;49mapply_standard()\n",
      "File \u001b[0;32m~/.local/lib/python3.10/site-packages/pandas/core/apply.py:1137\u001b[0m, in \u001b[0;36mSeriesApply.apply_standard\u001b[0;34m(self)\u001b[0m\n\u001b[1;32m   <a href='file:///home/lordshorya/.local/lib/python3.10/site-packages/pandas/core/apply.py?line=1130'>1131</a>\u001b[0m         values \u001b[39m=\u001b[39m obj\u001b[39m.\u001b[39mastype(\u001b[39mobject\u001b[39m)\u001b[39m.\u001b[39m_values\n\u001b[1;32m   <a href='file:///home/lordshorya/.local/lib/python3.10/site-packages/pandas/core/apply.py?line=1131'>1132</a>\u001b[0m         \u001b[39m# error: Argument 2 to \"map_infer\" has incompatible type\u001b[39;00m\n\u001b[1;32m   <a href='file:///home/lordshorya/.local/lib/python3.10/site-packages/pandas/core/apply.py?line=1132'>1133</a>\u001b[0m         \u001b[39m# \"Union[Callable[..., Any], str, List[Union[Callable[..., Any], str]],\u001b[39;00m\n\u001b[1;32m   <a href='file:///home/lordshorya/.local/lib/python3.10/site-packages/pandas/core/apply.py?line=1133'>1134</a>\u001b[0m         \u001b[39m# Dict[Hashable, Union[Union[Callable[..., Any], str],\u001b[39;00m\n\u001b[1;32m   <a href='file:///home/lordshorya/.local/lib/python3.10/site-packages/pandas/core/apply.py?line=1134'>1135</a>\u001b[0m         \u001b[39m# List[Union[Callable[..., Any], str]]]]]\"; expected\u001b[39;00m\n\u001b[1;32m   <a href='file:///home/lordshorya/.local/lib/python3.10/site-packages/pandas/core/apply.py?line=1135'>1136</a>\u001b[0m         \u001b[39m# \"Callable[[Any], Any]\"\u001b[39;00m\n\u001b[0;32m-> <a href='file:///home/lordshorya/.local/lib/python3.10/site-packages/pandas/core/apply.py?line=1136'>1137</a>\u001b[0m         mapped \u001b[39m=\u001b[39m lib\u001b[39m.\u001b[39;49mmap_infer(\n\u001b[1;32m   <a href='file:///home/lordshorya/.local/lib/python3.10/site-packages/pandas/core/apply.py?line=1137'>1138</a>\u001b[0m             values,\n\u001b[1;32m   <a href='file:///home/lordshorya/.local/lib/python3.10/site-packages/pandas/core/apply.py?line=1138'>1139</a>\u001b[0m             f,  \u001b[39m# type: ignore[arg-type]\u001b[39;49;00m\n\u001b[1;32m   <a href='file:///home/lordshorya/.local/lib/python3.10/site-packages/pandas/core/apply.py?line=1139'>1140</a>\u001b[0m             convert\u001b[39m=\u001b[39;49m\u001b[39mself\u001b[39;49m\u001b[39m.\u001b[39;49mconvert_dtype,\n\u001b[1;32m   <a href='file:///home/lordshorya/.local/lib/python3.10/site-packages/pandas/core/apply.py?line=1140'>1141</a>\u001b[0m         )\n\u001b[1;32m   <a href='file:///home/lordshorya/.local/lib/python3.10/site-packages/pandas/core/apply.py?line=1142'>1143</a>\u001b[0m \u001b[39mif\u001b[39;00m \u001b[39mlen\u001b[39m(mapped) \u001b[39mand\u001b[39;00m \u001b[39misinstance\u001b[39m(mapped[\u001b[39m0\u001b[39m], ABCSeries):\n\u001b[1;32m   <a href='file:///home/lordshorya/.local/lib/python3.10/site-packages/pandas/core/apply.py?line=1143'>1144</a>\u001b[0m     \u001b[39m# GH#43986 Need to do list(mapped) in order to get treated as nested\u001b[39;00m\n\u001b[1;32m   <a href='file:///home/lordshorya/.local/lib/python3.10/site-packages/pandas/core/apply.py?line=1144'>1145</a>\u001b[0m     \u001b[39m#  See also GH#25959 regarding EA support\u001b[39;00m\n\u001b[1;32m   <a href='file:///home/lordshorya/.local/lib/python3.10/site-packages/pandas/core/apply.py?line=1145'>1146</a>\u001b[0m     \u001b[39mreturn\u001b[39;00m obj\u001b[39m.\u001b[39m_constructor_expanddim(\u001b[39mlist\u001b[39m(mapped), index\u001b[39m=\u001b[39mobj\u001b[39m.\u001b[39mindex)\n",
      "File \u001b[0;32m~/.local/lib/python3.10/site-packages/pandas/_libs/lib.pyx:2870\u001b[0m, in \u001b[0;36mpandas._libs.lib.map_infer\u001b[0;34m()\u001b[0m\n",
      "\u001b[1;32m/home/lordshorya/Documents/BDA-2/eda.ipynb Cell 16'\u001b[0m in \u001b[0;36m<lambda>\u001b[0;34m(title)\u001b[0m\n\u001b[1;32m     <a href='vscode-notebook-cell:/home/lordshorya/Documents/BDA-2/eda.ipynb#ch0000015?line=27'>28</a>\u001b[0m clean_russia_titles_df[\u001b[39m'\u001b[39m\u001b[39mTitle\u001b[39m\u001b[39m'\u001b[39m] \u001b[39m=\u001b[39m clean_russia_titles_df[\u001b[39m'\u001b[39m\u001b[39mTitle\u001b[39m\u001b[39m'\u001b[39m]\u001b[39m.\u001b[39mstr\u001b[39m.\u001b[39mlower()\n\u001b[1;32m     <a href='vscode-notebook-cell:/home/lordshorya/Documents/BDA-2/eda.ipynb#ch0000015?line=28'>29</a>\u001b[0m clean_russia_titles_df[\u001b[39m'\u001b[39m\u001b[39mTitle\u001b[39m\u001b[39m'\u001b[39m] \u001b[39m=\u001b[39m clean_russia_titles_df[\u001b[39m'\u001b[39m\u001b[39mTitle\u001b[39m\u001b[39m'\u001b[39m]\u001b[39m.\u001b[39mstr\u001b[39m.\u001b[39mreplace(\u001b[39mr\u001b[39m\u001b[39m'\u001b[39m\u001b[39m[^\u001b[39m\u001b[39m\\\u001b[39m\u001b[39mw\u001b[39m\u001b[39m\\\u001b[39m\u001b[39md\u001b[39m\u001b[39m\\\u001b[39m\u001b[39ms]\u001b[39m\u001b[39m'\u001b[39m, \u001b[39m'\u001b[39m\u001b[39m \u001b[39m\u001b[39m'\u001b[39m, regex\u001b[39m=\u001b[39m\u001b[39mTrue\u001b[39;00m)\n\u001b[0;32m---> <a href='vscode-notebook-cell:/home/lordshorya/Documents/BDA-2/eda.ipynb#ch0000015?line=29'>30</a>\u001b[0m clean_russia_titles_df[\u001b[39m'\u001b[39m\u001b[39mTitle\u001b[39m\u001b[39m'\u001b[39m] \u001b[39m=\u001b[39m clean_russia_titles_df[\u001b[39m'\u001b[39m\u001b[39mTitle\u001b[39m\u001b[39m'\u001b[39m]\u001b[39m.\u001b[39mapply(\u001b[39mlambda\u001b[39;00m title: lemmatize(title))\n\u001b[1;32m     <a href='vscode-notebook-cell:/home/lordshorya/Documents/BDA-2/eda.ipynb#ch0000015?line=31'>32</a>\u001b[0m \u001b[39mdef\u001b[39;00m \u001b[39mwordcloud\u001b[39m(dataset, min_freq\u001b[39m=\u001b[39m\u001b[39m1\u001b[39m):\n\u001b[1;32m     <a href='vscode-notebook-cell:/home/lordshorya/Documents/BDA-2/eda.ipynb#ch0000015?line=32'>33</a>\u001b[0m     bow \u001b[39m=\u001b[39m \u001b[39mlist\u001b[39m()\n",
      "\u001b[1;32m/home/lordshorya/Documents/BDA-2/eda.ipynb Cell 16'\u001b[0m in \u001b[0;36mlemmatize\u001b[0;34m(title)\u001b[0m\n\u001b[1;32m     <a href='vscode-notebook-cell:/home/lordshorya/Documents/BDA-2/eda.ipynb#ch0000015?line=15'>16</a>\u001b[0m lemmatizer \u001b[39m=\u001b[39m WordNetLemmatizer()\n\u001b[1;32m     <a href='vscode-notebook-cell:/home/lordshorya/Documents/BDA-2/eda.ipynb#ch0000015?line=16'>17</a>\u001b[0m words \u001b[39m=\u001b[39m \u001b[39mlist\u001b[39m()\n\u001b[0;32m---> <a href='vscode-notebook-cell:/home/lordshorya/Documents/BDA-2/eda.ipynb#ch0000015?line=17'>18</a>\u001b[0m title \u001b[39m=\u001b[39m word_tokenize(title)\n\u001b[1;32m     <a href='vscode-notebook-cell:/home/lordshorya/Documents/BDA-2/eda.ipynb#ch0000015?line=18'>19</a>\u001b[0m \u001b[39mfor\u001b[39;00m word, tag \u001b[39min\u001b[39;00m pos_tag(title):\n\u001b[1;32m     <a href='vscode-notebook-cell:/home/lordshorya/Documents/BDA-2/eda.ipynb#ch0000015?line=19'>20</a>\u001b[0m     tag \u001b[39m=\u001b[39m get_wordnet_tag(tag)\n",
      "File \u001b[0;32m~/.local/lib/python3.10/site-packages/nltk/tokenize/__init__.py:129\u001b[0m, in \u001b[0;36mword_tokenize\u001b[0;34m(text, language, preserve_line)\u001b[0m\n\u001b[1;32m    <a href='file:///home/lordshorya/.local/lib/python3.10/site-packages/nltk/tokenize/__init__.py?line=113'>114</a>\u001b[0m \u001b[39mdef\u001b[39;00m \u001b[39mword_tokenize\u001b[39m(text, language\u001b[39m=\u001b[39m\u001b[39m\"\u001b[39m\u001b[39menglish\u001b[39m\u001b[39m\"\u001b[39m, preserve_line\u001b[39m=\u001b[39m\u001b[39mFalse\u001b[39;00m):\n\u001b[1;32m    <a href='file:///home/lordshorya/.local/lib/python3.10/site-packages/nltk/tokenize/__init__.py?line=114'>115</a>\u001b[0m     \u001b[39m\"\"\"\u001b[39;00m\n\u001b[1;32m    <a href='file:///home/lordshorya/.local/lib/python3.10/site-packages/nltk/tokenize/__init__.py?line=115'>116</a>\u001b[0m \u001b[39m    Return a tokenized copy of *text*,\u001b[39;00m\n\u001b[1;32m    <a href='file:///home/lordshorya/.local/lib/python3.10/site-packages/nltk/tokenize/__init__.py?line=116'>117</a>\u001b[0m \u001b[39m    using NLTK's recommended word tokenizer\u001b[39;00m\n\u001b[0;32m   (...)\u001b[0m\n\u001b[1;32m    <a href='file:///home/lordshorya/.local/lib/python3.10/site-packages/nltk/tokenize/__init__.py?line=126'>127</a>\u001b[0m \u001b[39m    :type preserve_line: bool\u001b[39;00m\n\u001b[1;32m    <a href='file:///home/lordshorya/.local/lib/python3.10/site-packages/nltk/tokenize/__init__.py?line=127'>128</a>\u001b[0m \u001b[39m    \"\"\"\u001b[39;00m\n\u001b[0;32m--> <a href='file:///home/lordshorya/.local/lib/python3.10/site-packages/nltk/tokenize/__init__.py?line=128'>129</a>\u001b[0m     sentences \u001b[39m=\u001b[39m [text] \u001b[39mif\u001b[39;00m preserve_line \u001b[39melse\u001b[39;00m sent_tokenize(text, language)\n\u001b[1;32m    <a href='file:///home/lordshorya/.local/lib/python3.10/site-packages/nltk/tokenize/__init__.py?line=129'>130</a>\u001b[0m     \u001b[39mreturn\u001b[39;00m [\n\u001b[1;32m    <a href='file:///home/lordshorya/.local/lib/python3.10/site-packages/nltk/tokenize/__init__.py?line=130'>131</a>\u001b[0m         token \u001b[39mfor\u001b[39;00m sent \u001b[39min\u001b[39;00m sentences \u001b[39mfor\u001b[39;00m token \u001b[39min\u001b[39;00m _treebank_word_tokenizer\u001b[39m.\u001b[39mtokenize(sent)\n\u001b[1;32m    <a href='file:///home/lordshorya/.local/lib/python3.10/site-packages/nltk/tokenize/__init__.py?line=131'>132</a>\u001b[0m     ]\n",
      "File \u001b[0;32m~/.local/lib/python3.10/site-packages/nltk/tokenize/__init__.py:106\u001b[0m, in \u001b[0;36msent_tokenize\u001b[0;34m(text, language)\u001b[0m\n\u001b[1;32m     <a href='file:///home/lordshorya/.local/lib/python3.10/site-packages/nltk/tokenize/__init__.py?line=95'>96</a>\u001b[0m \u001b[39mdef\u001b[39;00m \u001b[39msent_tokenize\u001b[39m(text, language\u001b[39m=\u001b[39m\u001b[39m\"\u001b[39m\u001b[39menglish\u001b[39m\u001b[39m\"\u001b[39m):\n\u001b[1;32m     <a href='file:///home/lordshorya/.local/lib/python3.10/site-packages/nltk/tokenize/__init__.py?line=96'>97</a>\u001b[0m     \u001b[39m\"\"\"\u001b[39;00m\n\u001b[1;32m     <a href='file:///home/lordshorya/.local/lib/python3.10/site-packages/nltk/tokenize/__init__.py?line=97'>98</a>\u001b[0m \u001b[39m    Return a sentence-tokenized copy of *text*,\u001b[39;00m\n\u001b[1;32m     <a href='file:///home/lordshorya/.local/lib/python3.10/site-packages/nltk/tokenize/__init__.py?line=98'>99</a>\u001b[0m \u001b[39m    using NLTK's recommended sentence tokenizer\u001b[39;00m\n\u001b[0;32m   (...)\u001b[0m\n\u001b[1;32m    <a href='file:///home/lordshorya/.local/lib/python3.10/site-packages/nltk/tokenize/__init__.py?line=103'>104</a>\u001b[0m \u001b[39m    :param language: the model name in the Punkt corpus\u001b[39;00m\n\u001b[1;32m    <a href='file:///home/lordshorya/.local/lib/python3.10/site-packages/nltk/tokenize/__init__.py?line=104'>105</a>\u001b[0m \u001b[39m    \"\"\"\u001b[39;00m\n\u001b[0;32m--> <a href='file:///home/lordshorya/.local/lib/python3.10/site-packages/nltk/tokenize/__init__.py?line=105'>106</a>\u001b[0m     tokenizer \u001b[39m=\u001b[39m load(\u001b[39mf\u001b[39;49m\u001b[39m\"\u001b[39;49m\u001b[39mtokenizers/punkt/\u001b[39;49m\u001b[39m{\u001b[39;49;00mlanguage\u001b[39m}\u001b[39;49;00m\u001b[39m.pickle\u001b[39;49m\u001b[39m\"\u001b[39;49m)\n\u001b[1;32m    <a href='file:///home/lordshorya/.local/lib/python3.10/site-packages/nltk/tokenize/__init__.py?line=106'>107</a>\u001b[0m     \u001b[39mreturn\u001b[39;00m tokenizer\u001b[39m.\u001b[39mtokenize(text)\n",
      "File \u001b[0;32m~/.local/lib/python3.10/site-packages/nltk/data.py:750\u001b[0m, in \u001b[0;36mload\u001b[0;34m(resource_url, format, cache, verbose, logic_parser, fstruct_reader, encoding)\u001b[0m\n\u001b[1;32m    <a href='file:///home/lordshorya/.local/lib/python3.10/site-packages/nltk/data.py?line=746'>747</a>\u001b[0m     \u001b[39mprint\u001b[39m(\u001b[39mf\u001b[39m\u001b[39m\"\u001b[39m\u001b[39m<<Loading \u001b[39m\u001b[39m{\u001b[39;00mresource_url\u001b[39m}\u001b[39;00m\u001b[39m>>\u001b[39m\u001b[39m\"\u001b[39m)\n\u001b[1;32m    <a href='file:///home/lordshorya/.local/lib/python3.10/site-packages/nltk/data.py?line=748'>749</a>\u001b[0m \u001b[39m# Load the resource.\u001b[39;00m\n\u001b[0;32m--> <a href='file:///home/lordshorya/.local/lib/python3.10/site-packages/nltk/data.py?line=749'>750</a>\u001b[0m opened_resource \u001b[39m=\u001b[39m _open(resource_url)\n\u001b[1;32m    <a href='file:///home/lordshorya/.local/lib/python3.10/site-packages/nltk/data.py?line=751'>752</a>\u001b[0m \u001b[39mif\u001b[39;00m \u001b[39mformat\u001b[39m \u001b[39m==\u001b[39m \u001b[39m\"\u001b[39m\u001b[39mraw\u001b[39m\u001b[39m\"\u001b[39m:\n\u001b[1;32m    <a href='file:///home/lordshorya/.local/lib/python3.10/site-packages/nltk/data.py?line=752'>753</a>\u001b[0m     resource_val \u001b[39m=\u001b[39m opened_resource\u001b[39m.\u001b[39mread()\n",
      "File \u001b[0;32m~/.local/lib/python3.10/site-packages/nltk/data.py:876\u001b[0m, in \u001b[0;36m_open\u001b[0;34m(resource_url)\u001b[0m\n\u001b[1;32m    <a href='file:///home/lordshorya/.local/lib/python3.10/site-packages/nltk/data.py?line=872'>873</a>\u001b[0m protocol, path_ \u001b[39m=\u001b[39m split_resource_url(resource_url)\n\u001b[1;32m    <a href='file:///home/lordshorya/.local/lib/python3.10/site-packages/nltk/data.py?line=874'>875</a>\u001b[0m \u001b[39mif\u001b[39;00m protocol \u001b[39mis\u001b[39;00m \u001b[39mNone\u001b[39;00m \u001b[39mor\u001b[39;00m protocol\u001b[39m.\u001b[39mlower() \u001b[39m==\u001b[39m \u001b[39m\"\u001b[39m\u001b[39mnltk\u001b[39m\u001b[39m\"\u001b[39m:\n\u001b[0;32m--> <a href='file:///home/lordshorya/.local/lib/python3.10/site-packages/nltk/data.py?line=875'>876</a>\u001b[0m     \u001b[39mreturn\u001b[39;00m find(path_, path \u001b[39m+\u001b[39;49m [\u001b[39m\"\u001b[39;49m\u001b[39m\"\u001b[39;49m])\u001b[39m.\u001b[39mopen()\n\u001b[1;32m    <a href='file:///home/lordshorya/.local/lib/python3.10/site-packages/nltk/data.py?line=876'>877</a>\u001b[0m \u001b[39melif\u001b[39;00m protocol\u001b[39m.\u001b[39mlower() \u001b[39m==\u001b[39m \u001b[39m\"\u001b[39m\u001b[39mfile\u001b[39m\u001b[39m\"\u001b[39m:\n\u001b[1;32m    <a href='file:///home/lordshorya/.local/lib/python3.10/site-packages/nltk/data.py?line=877'>878</a>\u001b[0m     \u001b[39m# urllib might not use mode='rb', so handle this one ourselves:\u001b[39;00m\n\u001b[1;32m    <a href='file:///home/lordshorya/.local/lib/python3.10/site-packages/nltk/data.py?line=878'>879</a>\u001b[0m     \u001b[39mreturn\u001b[39;00m find(path_, [\u001b[39m\"\u001b[39m\u001b[39m\"\u001b[39m])\u001b[39m.\u001b[39mopen()\n",
      "File \u001b[0;32m~/.local/lib/python3.10/site-packages/nltk/data.py:583\u001b[0m, in \u001b[0;36mfind\u001b[0;34m(resource_name, paths)\u001b[0m\n\u001b[1;32m    <a href='file:///home/lordshorya/.local/lib/python3.10/site-packages/nltk/data.py?line=580'>581</a>\u001b[0m sep \u001b[39m=\u001b[39m \u001b[39m\"\u001b[39m\u001b[39m*\u001b[39m\u001b[39m\"\u001b[39m \u001b[39m*\u001b[39m \u001b[39m70\u001b[39m\n\u001b[1;32m    <a href='file:///home/lordshorya/.local/lib/python3.10/site-packages/nltk/data.py?line=581'>582</a>\u001b[0m resource_not_found \u001b[39m=\u001b[39m \u001b[39mf\u001b[39m\u001b[39m\"\u001b[39m\u001b[39m\\n\u001b[39;00m\u001b[39m{\u001b[39;00msep\u001b[39m}\u001b[39;00m\u001b[39m\\n\u001b[39;00m\u001b[39m{\u001b[39;00mmsg\u001b[39m}\u001b[39;00m\u001b[39m\\n\u001b[39;00m\u001b[39m{\u001b[39;00msep\u001b[39m}\u001b[39;00m\u001b[39m\\n\u001b[39;00m\u001b[39m\"\u001b[39m\n\u001b[0;32m--> <a href='file:///home/lordshorya/.local/lib/python3.10/site-packages/nltk/data.py?line=582'>583</a>\u001b[0m \u001b[39mraise\u001b[39;00m \u001b[39mLookupError\u001b[39;00m(resource_not_found)\n",
      "\u001b[0;31mLookupError\u001b[0m: \n**********************************************************************\n  Resource \u001b[93mpunkt\u001b[0m not found.\n  Please use the NLTK Downloader to obtain the resource:\n\n  \u001b[31m>>> import nltk\n  >>> nltk.download('punkt')\n  \u001b[0m\n  For more information see: https://www.nltk.org/data.html\n\n  Attempted to load \u001b[93mtokenizers/punkt/PY3/english.pickle\u001b[0m\n\n  Searched in:\n    - '/home/lordshorya/nltk_data'\n    - '/usr/nltk_data'\n    - '/usr/share/nltk_data'\n    - '/usr/lib/nltk_data'\n    - '/usr/share/nltk_data'\n    - '/usr/local/share/nltk_data'\n    - '/usr/lib/nltk_data'\n    - '/usr/local/lib/nltk_data'\n    - ''\n**********************************************************************\n"
     ]
    }
   ],
   "source": [
    "def get_wordnet_tag(tag):\n",
    "    tag_mapping = {\n",
    "        'ADJ': 'j',\n",
    "        'VERB': 'v',\n",
    "        'NOUN': 'n',\n",
    "        'ADV': 'r'\n",
    "    }\n",
    "\n",
    "    if tag in tag_mapping:\n",
    "        return tag_mapping[tag]\n",
    "    else:\n",
    "        return 'n'\n",
    "\n",
    "def lemmatize(title):\n",
    "    stop_words = stopwords.words('english')\n",
    "    lemmatizer = WordNetLemmatizer()\n",
    "    words = list()\n",
    "    title = word_tokenize(title)\n",
    "    for word, tag in pos_tag(title):\n",
    "        tag = get_wordnet_tag(tag)\n",
    "        word = lemmatizer.lemmatize(word, tag)\n",
    "        if word not in stop_words:\n",
    "            words.append(word)\n",
    "    \n",
    "    return ' '.join(words)\n",
    "\n",
    "clean_russia_titles_df = russia_df.copy()\n",
    "clean_russia_titles_df['Title'] = clean_russia_titles_df['Title'].str.lower()\n",
    "clean_russia_titles_df['Title'] = clean_russia_titles_df['Title'].str.replace(r'[^\\w\\d\\s]', ' ', regex=True)\n",
    "clean_russia_titles_df['Title'] = clean_russia_titles_df['Title'].apply(lambda title: lemmatize(title))\n",
    "\n",
    "def wordcloud(dataset, min_freq=1):\n",
    "    bow = list()\n",
    "    for title in dataset['Title']:\n",
    "        bow += word_tokenize(title)\n",
    "    \n",
    "    word_freq = dict()\n",
    "    counter = Counter(bow)\n",
    "    for word, freq in counter.items():\n",
    "        if freq >= min_freq:\n",
    "            word_freq[word] = freq\n",
    "    \n",
    "    wc = WordCloud(width=1000, height=1000, background_color='black')\n",
    "    wc = wc.generate_from_frequencies(word_freq)\n",
    "    \n",
    "    plt.figure(figsize=(12, 12))\n",
    "    plt.imshow(wc, interpolation=\"bilinear\")\n",
    "    plt.axis(\"off\")\n",
    "    plt.show()\n",
    "\n",
    "wordcloud(clean_russia_titles_df)\n"
   ]
  },
  {
   "cell_type": "markdown",
   "metadata": {},
   "source": [
    "#### Analyzing _www.reddit.com/r/ukraine_"
   ]
  },
  {
   "cell_type": "code",
   "execution_count": null,
   "metadata": {},
   "outputs": [],
   "source": [
    "ukraine_df = pd.read_csv('./ukraine_data.csv')\n",
    "ukraine_col = ukraine_df.columns\n",
    "\n",
    "print(\"Columns in the Ukrainian dataframe\\n\")\n",
    "for i in range (len(ukraine_col)):\n",
    "  print(f'{i}. {ukraine_col[i]}')"
   ]
  },
  {
   "cell_type": "markdown",
   "metadata": {},
   "source": [
    "The following columns will be dropped:\n",
    " - Date_utc,\n",
    " - ID,\n",
    " - Link\n",
    "\n",
    "The following columns will be retained:\n",
    " - Title -- the primary component of a post that will play a role in sentiment analysis.\n",
    " - Number of Comments -- Indicate how interested the community is in the post's subject. Sometimes a higher number of comments may also indicate a highly controversial post.\n",
    " - Score -- How the community perceives the post (whether they agree with it or not, whether they think the post is relevant to the community)\n",
    " - Author -- Will be useful in determining how active the authors are in the community, based on how much they've been posting.\n",
    " - Flair -- Similar to the title, plays a role in obtaining a quick insight into the subject of the post."
   ]
  },
  {
   "cell_type": "code",
   "execution_count": null,
   "metadata": {},
   "outputs": [],
   "source": [
    "ukraine_df.drop(columns=['Date_utc', 'ID', 'Link'], inplace=True)\n",
    "\n",
    "ukraine_col = ukraine_df.columns\n",
    "print(\"Columns retained:\\n\")\n",
    "for i in range (len(ukraine_col)):\n",
    "  print(f'{i}. {ukraine_col[i]}')"
   ]
  },
  {
   "cell_type": "code",
   "execution_count": null,
   "metadata": {},
   "outputs": [],
   "source": [
    "# Convert the flair column of rows with missing flair values into empty strings so that they don't get dropped, as unflaired posts are perfectly valid\n",
    "ukraine_df.loc[ukraine_df['Flair'].isna(), 'Flair'] = ''\n",
    "# Drop rows with missing/NaN values\n",
    "ukraine_df.dropna(inplace=True)\n",
    "\n",
    "print(f'Number of complete entries in the dataset: {ukraine_df.shape[0]}')\n",
    "ukraine_df.describe()[1:]"
   ]
  },
  {
   "cell_type": "markdown",
   "metadata": {},
   "source": [
    "On an average, each post has received around 158 comments, and the average score of a post lies around 1611 points."
   ]
  },
  {
   "cell_type": "code",
   "execution_count": null,
   "metadata": {},
   "outputs": [],
   "source": [
    "number_of_entries = ukraine_df.shape[0]\n",
    "unique_authors = ukraine_df['Author'].unique()\n",
    "\n",
    "print(f'Number of unique authors who participated in the community: {len(unique_authors)}')\n",
    "print(f' - Average number of posts made by each individual author: {round(number_of_entries/len(unique_authors))}')\n",
    "print(f'Number of unique flairs used throughout the set of posts: {len(ukraine_df.Flair.unique())}')"
   ]
  },
  {
   "cell_type": "code",
   "execution_count": null,
   "metadata": {},
   "outputs": [],
   "source": [
    "unique_authors = ukraine_df.nunique().reset_index()\n",
    "unique_authors.loc[len(unique_authors.index)] = ['Post', ukraine_df.shape[0]]\n",
    "\n",
    "unique_authors.drop([0, 1, 2, 4], inplace=True)\n",
    "unique_authors.columns = ['Value count', 'Count']\n",
    "ax = sns.barplot(data=unique_authors, x='Value count', y='Count')"
   ]
  },
  {
   "cell_type": "markdown",
   "metadata": {},
   "source": [
    "On average, each author posted around two submissions to the community."
   ]
  },
  {
   "cell_type": "code",
   "execution_count": null,
   "metadata": {},
   "outputs": [],
   "source": [
    "unflaired_posts = ukraine_df[ukraine_df.Flair == '']\n",
    "flaired_posts = ukraine_df[ukraine_df.Flair != '']\n",
    "\n",
    "post_flair_df = pd.DataFrame.from_dict({\n",
    "  0: ['Flaired posts', len(flaired_posts)],\n",
    "  1: ['Unflaired posts', len(unflaired_posts)]\n",
    "}, orient='index')\n",
    "\n",
    "post_flair_df.columns = ['Flair status', 'Count']\n",
    "ax = sns.barplot(data=post_flair_df, x='Flair status', y='Count')"
   ]
  },
  {
   "cell_type": "code",
   "execution_count": null,
   "metadata": {},
   "outputs": [],
   "source": [
    "ukraine_df.corr(method='spearman')"
   ]
  },
  {
   "cell_type": "code",
   "execution_count": null,
   "metadata": {},
   "outputs": [],
   "source": [
    "sns.heatmap(ukraine_df.corr(method='spearman'), cmap='coolwarm')"
   ]
  },
  {
   "cell_type": "markdown",
   "metadata": {},
   "source": [
    "There is very little correlation between the Score and the Number of comments on a post (although it is slightly greater as compared to the russian dataset). However, the correlation isn't negative either. This means the score and number of comments are hardly related to each other."
   ]
  },
  {
   "cell_type": "code",
   "execution_count": null,
   "metadata": {},
   "outputs": [],
   "source": [
    "def get_wordnet_tag(tag):\n",
    "    tag_mapping = {\n",
    "        'ADJ': 'j',\n",
    "        'VERB': 'v',\n",
    "        'NOUN': 'n',\n",
    "        'ADV': 'r'\n",
    "    }\n",
    "\n",
    "    if tag in tag_mapping:\n",
    "        return tag_mapping[tag]\n",
    "    else:\n",
    "        return 'n'\n",
    "\n",
    "def lemmatize(title):\n",
    "    stop_words = stopwords.words('english')\n",
    "    lemmatizer = WordNetLemmatizer()\n",
    "    words = list()\n",
    "    title = word_tokenize(title)\n",
    "    for word, tag in pos_tag(title):\n",
    "        tag = get_wordnet_tag(tag)\n",
    "        word = lemmatizer.lemmatize(word, tag)\n",
    "        if word not in stop_words:\n",
    "            words.append(word)\n",
    "    \n",
    "    return ' '.join(words)\n",
    "\n",
    "clean_ukraine_titles_df = ukraine_df.copy()\n",
    "clean_ukraine_titles_df['Title'] = clean_ukraine_titles_df['Title'].str.lower()\n",
    "clean_ukraine_titles_df['Title'] = clean_ukraine_titles_df['Title'].str.replace(r'[^\\w\\d\\s]', ' ', regex=True)\n",
    "clean_ukraine_titles_df['Title'] = clean_ukraine_titles_df['Title'].apply(lambda title: lemmatize(title))\n",
    "\n",
    "def wordcloud(dataset, min_freq=1):\n",
    "    bow = list()\n",
    "    for title in dataset['Title']:\n",
    "        bow += word_tokenize(title)\n",
    "    \n",
    "    word_freq = dict()\n",
    "    counter = Counter(bow)\n",
    "    for word, freq in counter.items():\n",
    "        if freq >= min_freq:\n",
    "            word_freq[word] = freq\n",
    "    \n",
    "    wc = WordCloud(width=1000, height=1000, background_color='black')\n",
    "    wc = wc.generate_from_frequencies(word_freq)\n",
    "    \n",
    "    plt.figure(figsize=(12, 12))\n",
    "    plt.imshow(wc, interpolation=\"bilinear\")\n",
    "    plt.axis(\"off\")\n",
    "    plt.show()\n",
    "\n",
    "wordcloud(clean_ukraine_titles_df)\n"
   ]
  }
 ],
 "metadata": {
  "interpreter": {
   "hash": "e7370f93d1d0cde622a1f8e1c04877d8463912d04d973331ad4851f04de6915a"
  },
  "kernelspec": {
   "display_name": "Python 3.10.4 64-bit",
   "language": "python",
   "name": "python3"
  },
  "language_info": {
   "codemirror_mode": {
    "name": "ipython",
    "version": 3
   },
   "file_extension": ".py",
   "mimetype": "text/x-python",
   "name": "python",
   "nbconvert_exporter": "python",
   "pygments_lexer": "ipython3",
   "version": "3.10.4"
  },
  "orig_nbformat": 4
 },
 "nbformat": 4,
 "nbformat_minor": 2
}
